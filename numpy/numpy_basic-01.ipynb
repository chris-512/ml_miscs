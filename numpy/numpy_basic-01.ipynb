{
 "cells": [
  {
   "cell_type": "markdown",
   "metadata": {},
   "source": [
    "# numpy basic-01"
   ]
  },
  {
   "cell_type": "markdown",
   "metadata": {},
   "source": [
    "https://docs.scipy.org/doc/numpy/user/basics.creation.html\n",
    "https://docs.scipy.org/doc/numpy/user/basics.indexing.html\n",
    "http://cs231n.github.io/python-numpy-tutorial/"
   ]
  },
  {
   "cell_type": "code",
   "execution_count": 35,
   "metadata": {},
   "outputs": [],
   "source": [
    "import numpy as np\n",
    "a = np.arange(15).reshape((3, 5))"
   ]
  },
  {
   "cell_type": "code",
   "execution_count": 36,
   "metadata": {},
   "outputs": [
    {
     "name": "stdout",
     "output_type": "stream",
     "text": [
      "2\n",
      "(3, 5)\n",
      "int64\n",
      "8\n",
      "<class 'numpy.ndarray'>\n",
      "15\n",
      "<memory at 0x7f6d040567e0>\n"
     ]
    },
    {
     "ename": "ValueError",
     "evalue": "only 2 non-keyword arguments accepted",
     "output_type": "error",
     "traceback": [
      "\u001b[0;31m---------------------------------------------------------------------------\u001b[0m",
      "\u001b[0;31mValueError\u001b[0m                                Traceback (most recent call last)",
      "\u001b[0;32m<ipython-input-36-67622cdc3d8d>\u001b[0m in \u001b[0;36m<module>\u001b[0;34m()\u001b[0m\n\u001b[1;32m     10\u001b[0m \u001b[0;31m# the buffer containing the actual elements of the array. Normally, we won't need to use this attribute.\u001b[0m\u001b[0;34m\u001b[0m\u001b[0;34m\u001b[0m\u001b[0m\n\u001b[1;32m     11\u001b[0m \u001b[0mprint\u001b[0m\u001b[0;34m(\u001b[0m\u001b[0ma\u001b[0m\u001b[0;34m.\u001b[0m\u001b[0mdata\u001b[0m\u001b[0;34m)\u001b[0m\u001b[0;34m\u001b[0m\u001b[0m\n\u001b[0;32m---> 12\u001b[0;31m \u001b[0ma\u001b[0m \u001b[0;34m=\u001b[0m \u001b[0mnp\u001b[0m\u001b[0;34m.\u001b[0m\u001b[0marray\u001b[0m\u001b[0;34m(\u001b[0m\u001b[0;36m1\u001b[0m\u001b[0;34m,\u001b[0m \u001b[0;36m2\u001b[0m\u001b[0;34m,\u001b[0m \u001b[0;36m3\u001b[0m\u001b[0;34m,\u001b[0m \u001b[0;36m4\u001b[0m\u001b[0;34m)\u001b[0m\u001b[0;34m\u001b[0m\u001b[0m\n\u001b[0m\u001b[1;32m     13\u001b[0m \u001b[0mprint\u001b[0m\u001b[0;34m(\u001b[0m\u001b[0ma\u001b[0m\u001b[0;34m)\u001b[0m\u001b[0;34m\u001b[0m\u001b[0m\n",
      "\u001b[0;31mValueError\u001b[0m: only 2 non-keyword arguments accepted"
     ]
    }
   ],
   "source": [
    "# the number of axes (dimensions) of the array\n",
    "print(a.ndim)\n",
    "# the dimensions of the array\n",
    "# the length of the shape tuple is the number of axes, ndim\n",
    "print(a.shape)\n",
    "print(a.dtype.name)\n",
    "print(a.itemsize)\n",
    "print(type(a))\n",
    "print(a.size)\n",
    "# the buffer containing the actual elements of the array. Normally, we won't need to use this attribute.\n",
    "print(a.data)\n",
    "a = np.array(1, 2, 3, 4)\n",
    "print(a)"
   ]
  },
  {
   "cell_type": "code",
   "execution_count": 37,
   "metadata": {},
   "outputs": [
    {
     "data": {
      "text/plain": [
       "array([[1, 5],\n",
       "       [2, 4]])"
      ]
     },
     "execution_count": 37,
     "metadata": {},
     "output_type": "execute_result"
    }
   ],
   "source": [
    "print(np.array([[1, 5], [2, 4]]))\n",
    "print(np.array([(1, 5), (2, 4)]))"
   ]
  },
  {
   "cell_type": "code",
   "execution_count": 17,
   "metadata": {},
   "outputs": [
    {
     "data": {
      "text/plain": [
       "array([[0.+0.j, 1.+0.j],\n",
       "       [2.+0.j, 3.+0.j]])"
      ]
     },
     "execution_count": 17,
     "metadata": {},
     "output_type": "execute_result"
    }
   ],
   "source": [
    "np.array(np.arange(4).reshape((2, 2)), dtype=complex)"
   ]
  },
  {
   "cell_type": "code",
   "execution_count": 19,
   "metadata": {},
   "outputs": [
    {
     "data": {
      "text/plain": [
       "array([[0., 0., 0., 0., 0.],\n",
       "       [0., 0., 0., 0., 0.],\n",
       "       [0., 0., 0., 0., 0.],\n",
       "       [0., 0., 0., 0., 0.],\n",
       "       [0., 0., 0., 0., 0.]])"
      ]
     },
     "execution_count": 19,
     "metadata": {},
     "output_type": "execute_result"
    }
   ],
   "source": [
    "np.zeros((5, 5))"
   ]
  },
  {
   "cell_type": "code",
   "execution_count": 20,
   "metadata": {},
   "outputs": [
    {
     "data": {
      "text/plain": [
       "array([[[1, 1, 1, 1],\n",
       "        [1, 1, 1, 1],\n",
       "        [1, 1, 1, 1]],\n",
       "\n",
       "       [[1, 1, 1, 1],\n",
       "        [1, 1, 1, 1],\n",
       "        [1, 1, 1, 1]]], dtype=int16)"
      ]
     },
     "execution_count": 20,
     "metadata": {},
     "output_type": "execute_result"
    }
   ],
   "source": [
    "np.ones(( 2, 3, 4), dtype=np.int16)"
   ]
  },
  {
   "cell_type": "code",
   "execution_count": 21,
   "metadata": {},
   "outputs": [
    {
     "data": {
      "text/plain": [
       "array([[6.92217681e-310, 4.68425857e-310, 0.00000000e+000],\n",
       "       [0.00000000e+000, 6.92216579e-310, 0.00000000e+000]])"
      ]
     },
     "execution_count": 21,
     "metadata": {},
     "output_type": "execute_result"
    }
   ],
   "source": [
    "np.empty((2, 3))"
   ]
  },
  {
   "cell_type": "code",
   "execution_count": 22,
   "metadata": {},
   "outputs": [
    {
     "data": {
      "text/plain": [
       "array([2. , 2.1, 2.2, 2.3, 2.4, 2.5, 2.6, 2.7, 2.8, 2.9])"
      ]
     },
     "execution_count": 22,
     "metadata": {},
     "output_type": "execute_result"
    }
   ],
   "source": [
    "np.arange(2, 3, 0.1)"
   ]
  },
  {
   "cell_type": "code",
   "execution_count": 25,
   "metadata": {},
   "outputs": [
    {
     "data": {
      "text/plain": [
       "array([2.   , 2.111, 2.223, 2.334, 2.445, 2.555, 2.666, 2.777, 2.889,\n",
       "       3.   ], dtype=float16)"
      ]
     },
     "execution_count": 25,
     "metadata": {},
     "output_type": "execute_result"
    }
   ],
   "source": [
    "np.linspace(2, 3, 10, dtype=np.float16)"
   ]
  },
  {
   "cell_type": "code",
   "execution_count": 26,
   "metadata": {},
   "outputs": [
    {
     "data": {
      "text/plain": [
       "array([2.       , 2.1111112, 2.2222223, 2.3333333, 2.4444444, 2.5555556,\n",
       "       2.6666667, 2.7777777, 2.8888888, 3.       ], dtype=float32)"
      ]
     },
     "execution_count": 26,
     "metadata": {},
     "output_type": "execute_result"
    }
   ],
   "source": [
    "np.linspace(2, 3, 10, dtype=np.float32)"
   ]
  },
  {
   "cell_type": "markdown",
   "metadata": {},
   "source": [
    "## Indexing"
   ]
  },
  {
   "cell_type": "code",
   "execution_count": 34,
   "metadata": {},
   "outputs": [
    {
     "name": "stdout",
     "output_type": "stream",
     "text": [
      "2\n",
      "8\n",
      "[[0 1 2 3 4]\n",
      " [5 6 7 8 9]]\n",
      "8\n",
      "9\n",
      "[0 1 2 3 4]\n"
     ]
    }
   ],
   "source": [
    "x = np.arange(10)\n",
    "print(x[2])\n",
    "print(x[-2])\n",
    "x.shape = (2, 5)\n",
    "print(x)\n",
    "print(x[1, 3])\n",
    "print(x[1, -1])\n",
    "print(x[0])"
   ]
  },
  {
   "cell_type": "code",
   "execution_count": 39,
   "metadata": {},
   "outputs": [
    {
     "name": "stdout",
     "output_type": "stream",
     "text": [
      "2\n",
      "2\n"
     ]
    }
   ],
   "source": [
    "print(x[0][2]) # inefficient as a new temporary array is created after the first index that is subsequently indexed by 2\n",
    "print(x[0, 2])"
   ]
  },
  {
   "cell_type": "markdown",
   "metadata": {},
   "source": [
    "NumPy uses C-order indexing. That means that the last index usually represents the most rapidly chaning memory location, where the first index represents the most rapidly changing location in memory. This difference represents a great potential for confusion."
   ]
  },
  {
   "cell_type": "code",
   "execution_count": 41,
   "metadata": {},
   "outputs": [
    {
     "name": "stdout",
     "output_type": "stream",
     "text": [
      "[2 3 4]\n",
      "[0 1 2]\n",
      "[1 3 5]\n",
      "[[ 7 10 13]\n",
      " [21 24 27]]\n"
     ]
    }
   ],
   "source": [
    "x = np.arange(10)\n",
    "print(x[2:5])\n",
    "print(x[:-7])\n",
    "print(x[1:7:2])\n",
    "y = np.arange(35).reshape(5, 7)\n",
    "print(y[1:5:2, ::3])\n"
   ]
  },
  {
   "cell_type": "markdown",
   "metadata": {},
   "source": [
    "## Index arrays"
   ]
  },
  {
   "cell_type": "markdown",
   "metadata": {},
   "source": [
    "NumPy arrays may be indexed with other arrays (or any other sequence-like object that can be converted to an array, such as lists, with the exception of tuples; see the end of this document for why this is). The use of index arrays ranges from simple, straightforward cases to complex, hard-to-understand cases. For all cases of index arrays, what is returned is a copy of the original data, now a view as one gets for slices."
   ]
  },
  {
   "cell_type": "markdown",
   "metadata": {},
   "source": [
    "Index arrays must be of integer type. Each value in the array indicates which value in the array to use in place of index. To illustrate:"
   ]
  },
  {
   "cell_type": "code",
   "execution_count": 44,
   "metadata": {},
   "outputs": [
    {
     "name": "stdout",
     "output_type": "stream",
     "text": [
      "[10  9  8  7  6  5  4  3  2]\n",
      "[7 7 9 2]\n",
      "[7 7 4 2]\n"
     ]
    },
    {
     "ename": "IndexError",
     "evalue": "index 20 is out of bounds for axis 1 with size 9",
     "output_type": "error",
     "traceback": [
      "\u001b[0;31m---------------------------------------------------------------------------\u001b[0m",
      "\u001b[0;31mIndexError\u001b[0m                                Traceback (most recent call last)",
      "\u001b[0;32m<ipython-input-44-f1532d604296>\u001b[0m in \u001b[0;36m<module>\u001b[0;34m()\u001b[0m\n\u001b[1;32m      3\u001b[0m \u001b[0mprint\u001b[0m\u001b[0;34m(\u001b[0m\u001b[0mx\u001b[0m\u001b[0;34m[\u001b[0m\u001b[0mnp\u001b[0m\u001b[0;34m.\u001b[0m\u001b[0marray\u001b[0m\u001b[0;34m(\u001b[0m\u001b[0;34m[\u001b[0m\u001b[0;36m3\u001b[0m\u001b[0;34m,\u001b[0m \u001b[0;36m3\u001b[0m\u001b[0;34m,\u001b[0m \u001b[0;36m1\u001b[0m\u001b[0;34m,\u001b[0m \u001b[0;36m8\u001b[0m\u001b[0;34m]\u001b[0m\u001b[0;34m)\u001b[0m\u001b[0;34m]\u001b[0m\u001b[0;34m)\u001b[0m\u001b[0;34m\u001b[0m\u001b[0m\n\u001b[1;32m      4\u001b[0m \u001b[0mprint\u001b[0m\u001b[0;34m(\u001b[0m\u001b[0mx\u001b[0m\u001b[0;34m[\u001b[0m\u001b[0mnp\u001b[0m\u001b[0;34m.\u001b[0m\u001b[0marray\u001b[0m\u001b[0;34m(\u001b[0m\u001b[0;34m[\u001b[0m\u001b[0;36m3\u001b[0m\u001b[0;34m,\u001b[0m \u001b[0;36m3\u001b[0m\u001b[0;34m,\u001b[0m \u001b[0;34m-\u001b[0m\u001b[0;36m3\u001b[0m\u001b[0;34m,\u001b[0m \u001b[0;36m8\u001b[0m\u001b[0;34m]\u001b[0m\u001b[0;34m)\u001b[0m\u001b[0;34m]\u001b[0m\u001b[0;34m)\u001b[0m\u001b[0;34m\u001b[0m\u001b[0m\n\u001b[0;32m----> 5\u001b[0;31m \u001b[0mprint\u001b[0m\u001b[0;34m(\u001b[0m\u001b[0mx\u001b[0m\u001b[0;34m[\u001b[0m\u001b[0mnp\u001b[0m\u001b[0;34m.\u001b[0m\u001b[0marray\u001b[0m\u001b[0;34m(\u001b[0m\u001b[0;34m[\u001b[0m\u001b[0;36m3\u001b[0m\u001b[0;34m,\u001b[0m \u001b[0;36m3\u001b[0m\u001b[0;34m,\u001b[0m \u001b[0;36m20\u001b[0m\u001b[0;34m,\u001b[0m \u001b[0;36m8\u001b[0m\u001b[0;34m]\u001b[0m\u001b[0;34m)\u001b[0m\u001b[0;34m]\u001b[0m\u001b[0;34m)\u001b[0m\u001b[0;34m\u001b[0m\u001b[0m\n\u001b[0m",
      "\u001b[0;31mIndexError\u001b[0m: index 20 is out of bounds for axis 1 with size 9"
     ]
    }
   ],
   "source": [
    "x = np.arange(10, 1, -1)\n",
    "print(x)\n",
    "print(x[np.array([3, 3, 1, 8])])\n",
    "print(x[np.array([3, 3, -3, 8])])\n",
    "print(x[np.array([3, 3, 20, 8])])"
   ]
  },
  {
   "cell_type": "code",
   "execution_count": 45,
   "metadata": {},
   "outputs": [
    {
     "name": "stdout",
     "output_type": "stream",
     "text": [
      "[[9 9]\n",
      " [8 7]]\n"
     ]
    }
   ],
   "source": [
    "print(x[np.array([[1, 1], [2, 3]])])"
   ]
  },
  {
   "cell_type": "code",
   "execution_count": 48,
   "metadata": {},
   "outputs": [
    {
     "name": "stdout",
     "output_type": "stream",
     "text": [
      "[[ 0  1  2  3  4  5  6]\n",
      " [ 7  8  9 10 11 12 13]\n",
      " [14 15 16 17 18 19 20]\n",
      " [21 22 23 24 25 26 27]\n",
      " [28 29 30 31 32 33 34]]\n"
     ]
    }
   ],
   "source": [
    "print(y)"
   ]
  },
  {
   "cell_type": "code",
   "execution_count": 49,
   "metadata": {},
   "outputs": [
    {
     "name": "stdout",
     "output_type": "stream",
     "text": [
      "[ 0 15 30]\n"
     ]
    }
   ],
   "source": [
    "print(y[np.array([0, 2, 4]), np.array([0, 1, 2])])"
   ]
  },
  {
   "cell_type": "code",
   "execution_count": 51,
   "metadata": {},
   "outputs": [
    {
     "name": "stdout",
     "output_type": "stream",
     "text": [
      "[ 1 15 29]\n"
     ]
    }
   ],
   "source": [
    "# The broadcasting mechanism permits index arrays to be combined with scalars for other indices.\n",
    "# The effect is that the scalar value is used for all the corresponding values of the index arrays\n",
    "print(y[np.array([0, 2, 4]), 1])"
   ]
  },
  {
   "cell_type": "code",
   "execution_count": 53,
   "metadata": {},
   "outputs": [
    {
     "name": "stdout",
     "output_type": "stream",
     "text": [
      "[[ 0  1  2  3  4  5  6]\n",
      " [14 15 16 17 18 19 20]\n",
      " [28 29 30 31 32 33 34]]\n"
     ]
    }
   ],
   "source": [
    "# It is possible to only partially index an array with index arrays\n",
    "# An example of where this may be useful is for a color lookup table \n",
    "# where we want to map the values of an image to RGB triples for display.\n",
    "# The lookup table could have a shape (nlookup, 3). Indexing such an array with an image\n",
    "# with shape (ny, nx) with dtype=np.uint8 will result in an array of shape (ny, nx, 3) where\n",
    "# a triple of RGB values is associated with each pixel location.\n",
    "print(y[np.array([0, 2, 4])])"
   ]
  },
  {
   "cell_type": "markdown",
   "metadata": {},
   "source": [
    "## Boolean or \"mask\" index arrays"
   ]
  },
  {
   "cell_type": "code",
   "execution_count": 57,
   "metadata": {},
   "outputs": [
    {
     "name": "stdout",
     "output_type": "stream",
     "text": [
      "[[False False False False False False False]\n",
      " [False False False False False False False]\n",
      " [False False False False False False False]\n",
      " [ True  True  True  True  True  True  True]\n",
      " [ True  True  True  True  True  True  True]]\n",
      "[21 22 23 24 25 26 27 28 29 30 31 32 33 34]\n",
      "[21 22 23 24 25 26 27 28 29 30 31 32 33 34]\n"
     ]
    }
   ],
   "source": [
    "b = y > 20\n",
    "print(b)\n",
    "# Unlike in the case of integer index arrays, in the boolean case, the result is a 1-D array containing\n",
    "# all the elements in the indexed array corresponding to all the true elements in the boolean array.\n",
    "print(y[b])\n",
    "print(y[np.nonzero(b)])\n",
    "# As with index arrays, what is returned is a copy of the data, not a view as one gets with slices."
   ]
  },
  {
   "cell_type": "code",
   "execution_count": 56,
   "metadata": {},
   "outputs": [
    {
     "name": "stdout",
     "output_type": "stream",
     "text": [
      "[False False False  True  True]\n",
      "[[21 22 23 24 25 26 27]\n",
      " [28 29 30 31 32 33 34]]\n"
     ]
    }
   ],
   "source": [
    "# The result will be multidimensional if y has more dimensions than b.\n",
    "print(b[:, 5])\n",
    "print(y[b[:, 5]])"
   ]
  },
  {
   "cell_type": "code",
   "execution_count": 58,
   "metadata": {},
   "outputs": [
    {
     "name": "stdout",
     "output_type": "stream",
     "text": [
      "[[[ 0  1  2  3  4]\n",
      "  [ 5  6  7  8  9]\n",
      "  [10 11 12 13 14]]\n",
      "\n",
      " [[15 16 17 18 19]\n",
      "  [20 21 22 23 24]\n",
      "  [25 26 27 28 29]]]\n"
     ]
    }
   ],
   "source": [
    "x = np.arange(30).reshape(2, 3, 5)\n",
    "print(x)"
   ]
  },
  {
   "cell_type": "code",
   "execution_count": 60,
   "metadata": {},
   "outputs": [
    {
     "name": "stdout",
     "output_type": "stream",
     "text": [
      "[[ 0  1  2  3  4]\n",
      " [ 5  6  7  8  9]\n",
      " [20 21 22 23 24]\n",
      " [25 26 27 28 29]]\n"
     ]
    }
   ],
   "source": [
    "b = np.array([[True, True, False], [False, True, True]])\n",
    "print(x[b])"
   ]
  },
  {
   "cell_type": "markdown",
   "metadata": {},
   "source": [
    "## Combining index arrays with slices"
   ]
  },
  {
   "cell_type": "code",
   "execution_count": 63,
   "metadata": {},
   "outputs": [
    {
     "name": "stdout",
     "output_type": "stream",
     "text": [
      "[[ 0  1  2  3  4  5  6]\n",
      " [ 7  8  9 10 11 12 13]\n",
      " [14 15 16 17 18 19 20]\n",
      " [21 22 23 24 25 26 27]\n",
      " [28 29 30 31 32 33 34]]\n"
     ]
    }
   ],
   "source": [
    "print(y)"
   ]
  },
  {
   "cell_type": "code",
   "execution_count": 64,
   "metadata": {},
   "outputs": [
    {
     "name": "stdout",
     "output_type": "stream",
     "text": [
      "[[ 1  2]\n",
      " [15 16]\n",
      " [29 30]]\n"
     ]
    }
   ],
   "source": [
    "# In effect, the slice is converted to an index array np.array([[ 1, 2]]) (shape (1, 2))  that is\n",
    "# broadcast with the index array to produce a resultant array of shape (3, 2).\n",
    "print(y[np.array([0, 2, 4]), 1:3])"
   ]
  },
  {
   "cell_type": "code",
   "execution_count": 67,
   "metadata": {},
   "outputs": [
    {
     "name": "stdout",
     "output_type": "stream",
     "text": [
      "[[False False False False False False False]\n",
      " [False False False False False False False]\n",
      " [False False False False False False False]\n",
      " [ True  True  True  True  True  True  True]\n",
      " [ True  True  True  True  True  True  True]]\n",
      "[[22 23]\n",
      " [29 30]]\n"
     ]
    }
   ],
   "source": [
    "# Likewise, slicing can be combined with broadcasted boolean indices\n",
    "b = y > 20\n",
    "print(b)\n",
    "print(y[b[:, 5], 1:3])"
   ]
  },
  {
   "cell_type": "markdown",
   "metadata": {},
   "source": [
    "## Structural indexing tools"
   ]
  },
  {
   "cell_type": "code",
   "execution_count": 69,
   "metadata": {},
   "outputs": [
    {
     "name": "stdout",
     "output_type": "stream",
     "text": [
      "[[ 0  1  2  3  4  5  6]\n",
      " [ 7  8  9 10 11 12 13]\n",
      " [14 15 16 17 18 19 20]\n",
      " [21 22 23 24 25 26 27]\n",
      " [28 29 30 31 32 33 34]]\n"
     ]
    }
   ],
   "source": [
    "print(y)"
   ]
  },
  {
   "cell_type": "code",
   "execution_count": 70,
   "metadata": {},
   "outputs": [
    {
     "name": "stdout",
     "output_type": "stream",
     "text": [
      "(5, 7)\n",
      "(5, 1, 7)\n"
     ]
    }
   ],
   "source": [
    "print(y.shape)\n",
    "# the np.newaxis object can be used within array indices to add new dimensions with a size of 1.\n",
    "print(y[:, np.newaxis, :].shape)"
   ]
  },
  {
   "cell_type": "code",
   "execution_count": 73,
   "metadata": {},
   "outputs": [
    {
     "name": "stdout",
     "output_type": "stream",
     "text": [
      "[[0]\n",
      " [1]\n",
      " [2]\n",
      " [3]\n",
      " [4]]\n",
      "[[0 1 2 3 4]]\n",
      "[[0 1 2 3 4]\n",
      " [1 2 3 4 5]\n",
      " [2 3 4 5 6]\n",
      " [3 4 5 6 7]\n",
      " [4 5 6 7 8]]\n"
     ]
    }
   ],
   "source": [
    "# Note that there are no new elements in the array, just that the dimensionality is increased.\n",
    "# This can be handy to combine two arrays in a way that otherwise would require explicitly reshaping\n",
    "# operations. For example:\n",
    "x = np.arange(5)\n",
    "print(x[:, np.newaxis])\n",
    "print(x[np.newaxis, :])\n",
    "print(x[:, np.newaxis] + x[np.newaxis, :])"
   ]
  },
  {
   "cell_type": "code",
   "execution_count": 75,
   "metadata": {},
   "outputs": [
    {
     "name": "stdout",
     "output_type": "stream",
     "text": [
      "[[[[ 0  1  2]\n",
      "   [ 3  4  5]\n",
      "   [ 6  7  8]]\n",
      "\n",
      "  [[ 9 10 11]\n",
      "   [12 13 14]\n",
      "   [15 16 17]]\n",
      "\n",
      "  [[18 19 20]\n",
      "   [21 22 23]\n",
      "   [24 25 26]]]\n",
      "\n",
      "\n",
      " [[[27 28 29]\n",
      "   [30 31 32]\n",
      "   [33 34 35]]\n",
      "\n",
      "  [[36 37 38]\n",
      "   [39 40 41]\n",
      "   [42 43 44]]\n",
      "\n",
      "  [[45 46 47]\n",
      "   [48 49 50]\n",
      "   [51 52 53]]]\n",
      "\n",
      "\n",
      " [[[54 55 56]\n",
      "   [57 58 59]\n",
      "   [60 61 62]]\n",
      "\n",
      "  [[63 64 65]\n",
      "   [66 67 68]\n",
      "   [69 70 71]]\n",
      "\n",
      "  [[72 73 74]\n",
      "   [75 76 77]\n",
      "   [78 79 80]]]]\n"
     ]
    }
   ],
   "source": [
    "# The ellipsis syntax maybe used to indicate selecting in full any remaining unspecified dimensions.\n",
    "z = np.arange(81).reshape(3, 3, 3, 3)\n",
    "print(z)"
   ]
  },
  {
   "cell_type": "code",
   "execution_count": 76,
   "metadata": {},
   "outputs": [
    {
     "name": "stdout",
     "output_type": "stream",
     "text": [
      "[[29 32 35]\n",
      " [38 41 44]\n",
      " [47 50 53]]\n"
     ]
    }
   ],
   "source": [
    "print(z[1, ..., 2])"
   ]
  },
  {
   "cell_type": "code",
   "execution_count": 77,
   "metadata": {},
   "outputs": [
    {
     "name": "stdout",
     "output_type": "stream",
     "text": [
      "[[29 32 35]\n",
      " [38 41 44]\n",
      " [47 50 53]]\n"
     ]
    }
   ],
   "source": [
    "# This is equivalent to\n",
    "print(z[1, :, :, 2])"
   ]
  },
  {
   "cell_type": "markdown",
   "metadata": {},
   "source": [
    "## Assigning values to indexed arrays"
   ]
  },
  {
   "cell_type": "code",
   "execution_count": 81,
   "metadata": {},
   "outputs": [
    {
     "name": "stdout",
     "output_type": "stream",
     "text": [
      "[0 1 1 1 1 1 1 7 8 9]\n",
      "[0 1 0 1 2 3 4 7 8 9]\n"
     ]
    }
   ],
   "source": [
    "x = np.arange(10)\n",
    "x[2:7] = 1\n",
    "print(x)\n",
    "# or an array of the right size\n",
    "x[2:7] = np.arange(5)\n",
    "print(x)"
   ]
  },
  {
   "cell_type": "code",
   "execution_count": 108,
   "metadata": {},
   "outputs": [
    {
     "name": "stdout",
     "output_type": "stream",
     "text": [
      "[ 0 10 20 30 40]\n"
     ]
    }
   ],
   "source": [
    "x = np.arange(0, 50, 10)\n",
    "print(x)"
   ]
  },
  {
   "cell_type": "code",
   "execution_count": 109,
   "metadata": {},
   "outputs": [
    {
     "name": "stdout",
     "output_type": "stream",
     "text": [
      "[11 11 31 11]\n",
      "[ 0 11 20 31 40]\n"
     ]
    }
   ],
   "source": [
    "# Where people expect that the first location will be incremented by 3. In fact,\n",
    "# it will only be incremented by 1. The reason is because a new array is extracted from\n",
    "# the original (as a temporary) containing the values at 1, 1, 3, 1, then the value 1 is added\n",
    "# to the temporary, and then the temporary is assigned back to the original array.\n",
    "# Thus the value of the array at x[1]+1 is assigned to x[1] three times, rather than being\n",
    "# incremented 3 times.\n",
    "a = x[np.array([1, 1, 3, 1])]\n",
    "a += 1\n",
    "print(a)\n",
    "x[np.array([1, 1, 3, 1])] += 1\n",
    "# why x is not 4-dim??\n",
    "print(x)"
   ]
  },
  {
   "cell_type": "code",
   "execution_count": 104,
   "metadata": {},
   "outputs": [
    {
     "name": "stdout",
     "output_type": "stream",
     "text": [
      "[10 10 30 10]\n",
      "[11 11 31 11]\n"
     ]
    }
   ],
   "source": [
    "x= np.arange(0, 50, 10)\n",
    "index_array = np.array([1, 1, 3, 1])\n",
    "temp_array = x[index_array]\n",
    "print(temp_array)\n",
    "temp_array += 1\n",
    "x = temp_array\n",
    "print(x)"
   ]
  },
  {
   "cell_type": "markdown",
   "metadata": {},
   "source": [
    "## Dealing with variable numbers of indices within programs"
   ]
  },
  {
   "cell_type": "code",
   "execution_count": 99,
   "metadata": {},
   "outputs": [
    {
     "name": "stdout",
     "output_type": "stream",
     "text": [
      "[[[[ 0  1  2]\n",
      "   [ 3  4  5]\n",
      "   [ 6  7  8]]\n",
      "\n",
      "  [[ 9 10 11]\n",
      "   [12 13 14]\n",
      "   [15 16 17]]\n",
      "\n",
      "  [[18 19 20]\n",
      "   [21 22 23]\n",
      "   [24 25 26]]]\n",
      "\n",
      "\n",
      " [[[27 28 29]\n",
      "   [30 31 32]\n",
      "   [33 34 35]]\n",
      "\n",
      "  [[36 37 38]\n",
      "   [39 40 41]\n",
      "   [42 43 44]]\n",
      "\n",
      "  [[45 46 47]\n",
      "   [48 49 50]\n",
      "   [51 52 53]]]\n",
      "\n",
      "\n",
      " [[[54 55 56]\n",
      "   [57 58 59]\n",
      "   [60 61 62]]\n",
      "\n",
      "  [[63 64 65]\n",
      "   [66 67 68]\n",
      "   [69 70 71]]\n",
      "\n",
      "  [[72 73 74]\n",
      "   [75 76 77]\n",
      "   [78 79 80]]]]\n"
     ]
    }
   ],
   "source": [
    "print(z)"
   ]
  },
  {
   "cell_type": "code",
   "execution_count": 100,
   "metadata": {},
   "outputs": [
    {
     "name": "stdout",
     "output_type": "stream",
     "text": [
      "40\n"
     ]
    }
   ],
   "source": [
    "indices = (1, 1, 1, 1)\n",
    "print(z[indices])"
   ]
  },
  {
   "cell_type": "code",
   "execution_count": 101,
   "metadata": {},
   "outputs": [
    {
     "name": "stdout",
     "output_type": "stream",
     "text": [
      "[[28 31 34]\n",
      " [37 40 43]\n",
      " [46 49 52]]\n"
     ]
    }
   ],
   "source": [
    "indices = (1, Ellipsis, 1) # same as [1, ..., 1]\n",
    "print(z[indices])"
   ]
  },
  {
   "cell_type": "code",
   "execution_count": 103,
   "metadata": {},
   "outputs": [
    {
     "name": "stdout",
     "output_type": "stream",
     "text": [
      "[[[[27 28 29]\n",
      "   [30 31 32]\n",
      "   [33 34 35]]\n",
      "\n",
      "  [[36 37 38]\n",
      "   [39 40 41]\n",
      "   [42 43 44]]\n",
      "\n",
      "  [[45 46 47]\n",
      "   [48 49 50]\n",
      "   [51 52 53]]]\n",
      "\n",
      "\n",
      " [[[27 28 29]\n",
      "   [30 31 32]\n",
      "   [33 34 35]]\n",
      "\n",
      "  [[36 37 38]\n",
      "   [39 40 41]\n",
      "   [42 43 44]]\n",
      "\n",
      "  [[45 46 47]\n",
      "   [48 49 50]\n",
      "   [51 52 53]]]\n",
      "\n",
      "\n",
      " [[[27 28 29]\n",
      "   [30 31 32]\n",
      "   [33 34 35]]\n",
      "\n",
      "  [[36 37 38]\n",
      "   [39 40 41]\n",
      "   [42 43 44]]\n",
      "\n",
      "  [[45 46 47]\n",
      "   [48 49 50]\n",
      "   [51 52 53]]]\n",
      "\n",
      "\n",
      " [[[27 28 29]\n",
      "   [30 31 32]\n",
      "   [33 34 35]]\n",
      "\n",
      "  [[36 37 38]\n",
      "   [39 40 41]\n",
      "   [42 43 44]]\n",
      "\n",
      "  [[45 46 47]\n",
      "   [48 49 50]\n",
      "   [51 52 53]]]]\n",
      "40\n"
     ]
    }
   ],
   "source": [
    "# Because the special treatment of tuples, they are not automatically converted to an \n",
    "# array as a list would be.\n",
    "print(z[[1, 1, 1, 1]]) # produces a large array\n",
    "print(z[(1, 1, 1, 1)]) # produces a single value"
   ]
  },
  {
   "cell_type": "code",
   "execution_count": null,
   "metadata": {},
   "outputs": [],
   "source": []
  }
 ],
 "metadata": {
  "kernelspec": {
   "display_name": "Python 3",
   "language": "python",
   "name": "python3"
  },
  "language_info": {
   "codemirror_mode": {
    "name": "ipython",
    "version": 3
   },
   "file_extension": ".py",
   "mimetype": "text/x-python",
   "name": "python",
   "nbconvert_exporter": "python",
   "pygments_lexer": "ipython3",
   "version": "3.5.4"
  }
 },
 "nbformat": 4,
 "nbformat_minor": 2
}
